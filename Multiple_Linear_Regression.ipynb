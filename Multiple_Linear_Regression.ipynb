{
  "nbformat": 4,
  "nbformat_minor": 0,
  "metadata": {
    "colab": {
      "provenance": [],
      "include_colab_link": true
    },
    "kernelspec": {
      "name": "python3",
      "display_name": "Python 3"
    }
  },
  "cells": [
    {
      "cell_type": "markdown",
      "metadata": {
        "id": "view-in-github",
        "colab_type": "text"
      },
      "source": [
        "<a href=\"https://colab.research.google.com/github/vivekelle/ML-learning/blob/Regression/Multiple_Linear_Regression.ipynb\" target=\"_parent\"><img src=\"https://colab.research.google.com/assets/colab-badge.svg\" alt=\"Open In Colab\"/></a>"
      ]
    },
    {
      "cell_type": "markdown",
      "metadata": {
        "id": "FB7mg-9WUSAn"
      },
      "source": [
        "# Multiple Linear Regression "
      ]
    },
    {
      "cell_type": "markdown",
      "metadata": {
        "id": "zcXufiytUV3b"
      },
      "source": [
        "## Importing Libraries"
      ]
    },
    {
      "cell_type": "code",
      "source": [
        "import numpy as np\n",
        "import pandas as pd\n",
        "import matplotlib.pyplot as plt"
      ],
      "metadata": {
        "id": "naaXLttgRks6"
      },
      "execution_count": null,
      "outputs": []
    },
    {
      "cell_type": "markdown",
      "metadata": {
        "id": "x1V8I7-1Ugu8"
      },
      "source": [
        "## Importing Data Set"
      ]
    },
    {
      "cell_type": "code",
      "source": [
        "dataset = pd.read_csv(\"MultipleLinearRegression.csv\")\n",
        "X = dataset.iloc[:,:-1]\n",
        "y = dataset.iloc[:,-1]"
      ],
      "metadata": {
        "id": "0cMflQlNSAfn"
      },
      "execution_count": null,
      "outputs": []
    },
    {
      "cell_type": "markdown",
      "metadata": {
        "id": "V9bZq2w39GwP"
      },
      "source": [
        "## Encoding categorical data"
      ]
    },
    {
      "cell_type": "code",
      "metadata": {
        "id": "rrnDb2H8ALZh"
      },
      "source": [
        "from sklearn.compose import ColumnTransformer\n",
        "from sklearn.preprocessing import OneHotEncoder\n",
        "ct = ColumnTransformer(transformers = [('encoder', OneHotEncoder(),[1])], remainder = 'passthrough')\n",
        "X = np.array(ct.fit_transform(X))"
      ],
      "execution_count": null,
      "outputs": []
    },
    {
      "cell_type": "code",
      "source": [
        "print(X)"
      ],
      "metadata": {
        "colab": {
          "base_uri": "https://localhost:8080/"
        },
        "id": "w-enj5DwTR1h",
        "outputId": "ec02e01b-3138-4605-9167-836ab1ee411d"
      },
      "execution_count": null,
      "outputs": [
        {
          "output_type": "stream",
          "name": "stdout",
          "text": [
            "[[ 0.  0.  1. 10.  0. 97.]\n",
            " [ 1.  0.  0. 80.  0. 92.]\n",
            " [ 0.  1.  0. 10.  0. 97.]\n",
            " [ 1.  0.  0. 81.  4. 75.]\n",
            " [ 0.  0.  1. 12.  0. 97.]\n",
            " [ 0.  1.  0. 18.  0. 66.]\n",
            " [ 0.  0.  1. 13.  0. 93.]\n",
            " [ 1.  0.  0. 94.  4. 64.]\n",
            " [ 1.  0.  0. 86.  2. 76.]\n",
            " [ 0.  0.  1. 20.  0. 92.]\n",
            " [ 0.  0.  1. 15.  0. 94.]\n",
            " [ 0.  0.  1. 15.  0. 92.]\n",
            " [ 0.  1.  0. 16.  0. 92.]\n",
            " [ 0.  0.  1. 17.  0. 93.]\n",
            " [ 0.  0.  1. 18.  0. 93.]\n",
            " [ 0.  0.  1. 19.  0. 92.]\n",
            " [ 0.  0.  1. 19.  0. 89.]\n",
            " [ 0.  0.  1. 12.  0. 97.]\n",
            " [ 0.  0.  1. 20.  0. 93.]\n",
            " [ 0.  0.  1. 24.  0. 92.]\n",
            " [ 0.  0.  1. 25.  0. 93.]\n",
            " [ 1.  0.  0. 59.  2. 68.]\n",
            " [ 1.  0.  0. 63.  1. 66.]\n",
            " [ 0.  0.  1. 25.  1. 62.]\n",
            " [ 1.  0.  0. 26.  0. 94.]\n",
            " [ 0.  1.  0. 26.  0. 97.]\n",
            " [ 0.  0.  1. 28.  0. 99.]\n",
            " [ 1.  0.  0. 59.  0. 69.]\n",
            " [ 0.  0.  1. 28.  0. 89.]\n",
            " [ 0.  0.  1. 29.  0. 93.]\n",
            " [ 0.  0.  1. 48.  0. 93.]\n",
            " [ 0.  0.  1. 30.  0. 62.]\n",
            " [ 0.  0.  1. 30.  0. 86.]\n",
            " [ 0.  0.  1. 32.  0. 84.]\n",
            " [ 0.  0.  1. 34.  1. 90.]\n",
            " [ 0.  0.  1. 35.  0. 89.]\n",
            " [ 1.  0.  0. 50.  2. 77.]\n",
            " [ 1.  0.  0. 56.  2. 76.]\n",
            " [ 1.  0.  0. 56.  1. 77.]\n",
            " [ 1.  0.  0. 36.  1. 90.]\n",
            " [ 1.  0.  0. 38.  2. 75.]\n",
            " [ 0.  0.  1. 40.  0. 90.]\n",
            " [ 1.  0.  0. 40.  0. 92.]\n",
            " [ 1.  0.  0. 61.  2. 76.]\n",
            " [ 1.  0.  0. 42.  0. 92.]\n",
            " [ 1.  0.  0. 46.  0. 91.]\n",
            " [ 0.  0.  1. 49.  0. 80.]\n",
            " [ 1.  0.  0. 52.  1. 80.]\n",
            " [ 0.  0.  1. 32.  0. 89.]\n",
            " [ 1.  0.  0. 53.  1. 55.]\n",
            " [ 1.  0.  0. 54.  1. 70.]\n",
            " [ 1.  0.  0. 90.  3. 67.]\n",
            " [ 1.  0.  0. 78.  2. 71.]\n",
            " [ 1.  0.  0. 58.  0. 70.]\n",
            " [ 1.  0.  0. 60.  1. 68.]\n",
            " [ 0.  0.  1. 61.  0. 90.]\n",
            " [ 1.  0.  0. 62.  1. 68.]\n",
            " [ 1.  0.  0. 86.  3. 71.]\n",
            " [ 1.  0.  0. 62.  2. 69.]\n",
            " [ 1.  0.  0. 64.  1. 73.]\n",
            " [ 1.  0.  0. 68.  1. 67.]\n",
            " [ 1.  0.  0. 69.  0. 53.]\n",
            " [ 0.  0.  1. 70.  1. 88.]\n",
            " [ 1.  0.  0. 74.  2. 75.]\n",
            " [ 1.  0.  0. 75.  1. 72.]\n",
            " [ 1.  0.  0. 76.  4. 80.]\n",
            " [ 0.  0.  1. 35.  0. 92.]\n",
            " [ 0.  0.  1. 13.  0. 94.]\n",
            " [ 1.  0.  0. 82.  3. 73.]\n",
            " [ 1.  0.  0. 84.  3. 75.]]\n"
          ]
        }
      ]
    },
    {
      "cell_type": "markdown",
      "metadata": {
        "id": "2vBbKI1BUilB"
      },
      "source": [
        "## Splitting into test and training set"
      ]
    },
    {
      "cell_type": "code",
      "source": [
        "from sklearn.model_selection import train_test_split\n",
        "X_train , X_test, y_train , y_test = train_test_split(X,y,test_size = 0.5,random_state = 0)"
      ],
      "metadata": {
        "id": "GqGZejioT1Ao"
      },
      "execution_count": null,
      "outputs": []
    },
    {
      "cell_type": "markdown",
      "metadata": {
        "id": "K6uEL0b5Utac"
      },
      "source": [
        "## Training the Multiple Linear Regression model on the Training set"
      ]
    },
    {
      "cell_type": "code",
      "source": [
        "from sklearn.linear_model import LinearRegression\n",
        "regressor = LinearRegression()\n",
        "regressor.fit(X_train,y_train)"
      ],
      "metadata": {
        "colab": {
          "base_uri": "https://localhost:8080/"
        },
        "id": "6iu6mI9tUTAd",
        "outputId": "713de1e3-0939-408b-c146-a63d02703984"
      },
      "execution_count": null,
      "outputs": [
        {
          "output_type": "execute_result",
          "data": {
            "text/plain": [
              "LinearRegression()"
            ]
          },
          "metadata": {},
          "execution_count": 49
        }
      ]
    },
    {
      "cell_type": "markdown",
      "metadata": {
        "id": "RyRva69qUzBK"
      },
      "source": [
        "## Predicting the Test set results"
      ]
    },
    {
      "cell_type": "code",
      "metadata": {
        "id": "oWdAcCHvFK0O"
      },
      "source": [
        "y_pred = regressor.predict(X_test)\n",
        "np.set_printoptions(precision= 3)"
      ],
      "execution_count": null,
      "outputs": []
    },
    {
      "cell_type": "code",
      "source": [
        "x1 = y_pred.reshape(len(y_pred),1)   #reshape works on numpy arrays only\n",
        "x2 = y_test.values.reshape(len(y_test),1) #values is used here because y_test is a DataFrame Series(column in a pandas Dataframe)"
      ],
      "metadata": {
        "id": "itZ3hPjXBXr7"
      },
      "execution_count": null,
      "outputs": []
    },
    {
      "cell_type": "code",
      "source": [
        "np.concatenate((x1,x2),axis = 1)"
      ],
      "metadata": {
        "colab": {
          "base_uri": "https://localhost:8080/"
        },
        "id": "6Z8B7XMvBZ_g",
        "outputId": "01546b03-7f5b-486c-c95c-a0a34ee6a837"
      },
      "execution_count": null,
      "outputs": [
        {
          "output_type": "execute_result",
          "data": {
            "text/plain": [
              "array([[ 60533.335,  59994.   ],\n",
              "       [106619.446, 127181.   ],\n",
              "       [ 62772.09 ,  50104.   ],\n",
              "       [105434.518, 110911.   ],\n",
              "       [ 62980.887,  62019.   ],\n",
              "       [ 99354.489,  97101.   ],\n",
              "       [102651.887, 101000.   ],\n",
              "       [ 89229.203,  90015.   ],\n",
              "       [ 82388.277,  84008.   ],\n",
              "       [104969.026, 100000.   ],\n",
              "       [ 83042.367,  75012.   ],\n",
              "       [ 99019.408,  98101.   ],\n",
              "       [103836.814, 112101.   ],\n",
              "       [ 95072.015,  99110.   ]])"
            ]
          },
          "metadata": {},
          "execution_count": 52
        }
      ]
    },
    {
      "cell_type": "markdown",
      "metadata": {
        "id": "uziF7cmeU4tJ"
      },
      "source": [
        "## Visualizing results"
      ]
    },
    {
      "cell_type": "code",
      "source": [
        "plt.plot(y_test)\n",
        "plt.show()\n"
      ],
      "metadata": {
        "id": "t6UOLRIhDY2i",
        "colab": {
          "base_uri": "https://localhost:8080/",
          "height": 265
        },
        "outputId": "5b2127a9-c68a-46aa-ab10-a1298e345dd5"
      },
      "execution_count": null,
      "outputs": [
        {
          "output_type": "display_data",
          "data": {
            "text/plain": [
              "<Figure size 432x288 with 1 Axes>"
            ],
            "image/png": "[encoded data removed]"
          },
          "metadata": {
            "needs_background": "light"
          }
        }
      ]
    }
  ]
}